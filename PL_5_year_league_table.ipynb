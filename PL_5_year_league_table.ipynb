{
  "nbformat": 4,
  "nbformat_minor": 0,
  "metadata": {
    "colab": {
      "provenance": [],
      "authorship_tag": "ABX9TyNUCpK+hgfjoRyGZaAVXbom",
      "include_colab_link": true
    },
    "kernelspec": {
      "name": "python3",
      "display_name": "Python 3"
    },
    "language_info": {
      "name": "python"
    }
  },
  "cells": [
    {
      "cell_type": "markdown",
      "metadata": {
        "id": "view-in-github",
        "colab_type": "text"
      },
      "source": [
        "<a href=\"https://colab.research.google.com/github/ryanma5/PL-Project/blob/main/PL_5_year_league_table.ipynb\" target=\"_parent\"><img src=\"https://colab.research.google.com/assets/colab-badge.svg\" alt=\"Open In Colab\"/></a>"
      ]
    },
    {
      "cell_type": "code",
      "execution_count": null,
      "metadata": {
        "colab": {
          "base_uri": "https://localhost:8080/"
        },
        "id": "ZpXvagiS0LVs",
        "outputId": "b12e1625-0360-4767-83b1-cb426067db45"
      },
      "outputs": [
        {
          "output_type": "stream",
          "name": "stdout",
          "text": [
            "Mounted at /content/drive\n"
          ]
        }
      ],
      "source": [
        "#Import Libraries and mount drive\n",
        "import requests\n",
        "from bs4 import BeautifulSoup\n",
        "import pandas as pd\n",
        "import time\n",
        "from google.colab import drive\n",
        "drive.mount('/content/drive')"
      ]
    },
    {
      "cell_type": "markdown",
      "source": [
        "# Function for scrapping each year's league table"
      ],
      "metadata": {
        "id": "pJL9WYcbKFcP"
      }
    },
    {
      "cell_type": "code",
      "source": [
        "# Define the function to scrape the league table for each season\n",
        "def scrape_league_table(season_url):\n",
        "    response = requests.get(season_url)\n",
        "    if response.status_code != 200:\n",
        "        print(f\"Failed to retrieve data for {season_url}\")\n",
        "        return None\n",
        "\n",
        "    # Parse HTML content\n",
        "    soup = BeautifulSoup(response.content, 'html.parser')\n",
        "\n",
        "    # Find all tables on page\n",
        "    tables = soup.find_all('table')  # This returns a list of all <table> elements\n",
        "\n",
        "    # Retrieve first table from page (first table is always league table)\n",
        "    if tables:\n",
        "        league_table = tables[0]\n",
        "    else:\n",
        "        print(f\"No tables found on the page for {season_url}\")\n",
        "        return None\n",
        "\n",
        "    return league_table\n"
      ],
      "metadata": {
        "collapsed": true,
        "id": "tUX46QFS3KTF"
      },
      "execution_count": null,
      "outputs": []
    },
    {
      "cell_type": "markdown",
      "source": [
        "# Function for parsing each year's league table and populating a list that stores team names, and their respective points in a year"
      ],
      "metadata": {
        "id": "9BMjqZSmTA-c"
      }
    },
    {
      "cell_type": "code",
      "source": [
        "def parse_league_table(league_table):\n",
        "    # Find all rows in the table (skip the header row)\n",
        "    rows = league_table.find_all('tr')[1:]  # Skip the header row\n",
        "\n",
        "    # List to store parsed data\n",
        "    table_data = []\n",
        "\n",
        "    # Loop through each row and extract the relevant data (team name, points)\n",
        "    for row in rows:\n",
        "        cols = row.find_all('td')\n",
        "        if len(cols) > 1:  # Ensure the row has valid columns\n",
        "            # Extract team name using the 'team' data-stat\n",
        "            team_cell = row.find('td', {'data-stat': 'team'})\n",
        "            team = team_cell.find('a').text.strip() if team_cell and team_cell.find('a') else team_cell.text.strip()\n",
        "\n",
        "            # Extract points using the 'points' data-stat\n",
        "            points_cell = row.find('td', {'data-stat': 'points'})\n",
        "            points = int(points_cell.text.strip()) if points_cell else 0\n",
        "\n",
        "            # Add the extracted data to the list\n",
        "            table_data.append({\n",
        "                'Team': team,\n",
        "                'Points': points,\n",
        "            })\n",
        "\n",
        "    # Return the extracted data as a list of dictionaries\n",
        "    return table_data\n",
        "\n"
      ],
      "metadata": {
        "id": "yw2zk62hQZtq"
      },
      "execution_count": null,
      "outputs": []
    },
    {
      "cell_type": "markdown",
      "source": [
        "# Aggregating points for each team"
      ],
      "metadata": {
        "id": "RhrkUjHjXH8i"
      }
    },
    {
      "cell_type": "code",
      "source": [
        "# Define the URLs for the different seasons\n",
        "urls = {\n",
        "    '20-21': 'https://fbref.com/en/comps/9/2020-2021/2020-2021-Premier-League-Stats',\n",
        "    '21-22': 'https://fbref.com/en/comps/9/2021-2022/2021-2022-Premier-League-Stats',\n",
        "    '22-23': 'https://fbref.com/en/comps/9/2022-2023/2022-2023-Premier-League-Stats',\n",
        "    '23-24': 'https://fbref.com/en/comps/9/2023-2024/2023-2024-Premier-League-Stats',\n",
        "    '24-25': 'https://fbref.com/en/comps/9/Premier-League-Stats'\n",
        "}\n",
        "\n",
        "# Initialize an empty dictionary to store the total points for each team\n",
        "team_points = {}\n",
        "\n",
        "# Loop through each season and scrape the league table data\n",
        "for season, url in urls.items():\n",
        "    print(f\"Scraping data for {season}...\")\n",
        "\n",
        "    # Call the scrape_league_table function with the season's URL\n",
        "    season_table = scrape_league_table(url)\n",
        "\n",
        "    # If the table was successfully scraped, process it\n",
        "    if season_table:\n",
        "        # Parse the league table and get the team points for the season\n",
        "        season_data = parse_league_table(season_table)\n",
        "\n",
        "        # Accumulate points for each team\n",
        "        for data in season_data:\n",
        "            team = data['Team']\n",
        "            points = data['Points']\n",
        "\n",
        "            # Add the points for the team across seasons\n",
        "            if team in team_points:\n",
        "                team_points[team] += points\n",
        "            else:\n",
        "                team_points[team] = points\n",
        "\n",
        "    # Sleep to avoid overloading the server\n",
        "    time.sleep(2)\n"
      ],
      "metadata": {
        "colab": {
          "base_uri": "https://localhost:8080/"
        },
        "id": "jU4tudw7TaWm",
        "outputId": "11550aa0-2c17-43fb-a837-d7172a874ff1"
      },
      "execution_count": null,
      "outputs": [
        {
          "output_type": "stream",
          "name": "stdout",
          "text": [
            "Scraping data for 20-21...\n",
            "Scraping data for 21-22...\n",
            "Scraping data for 22-23...\n",
            "Scraping data for 23-24...\n",
            "Scraping data for 24-25...\n"
          ]
        }
      ]
    },
    {
      "cell_type": "code",
      "source": [
        "# Convert the accumulated team points into a DataFrame\n",
        "team_points_df = pd.DataFrame(list(team_points.items()), columns=['Team', 'Total Points'])\n",
        "\n",
        "# Sort the DataFrame by Total Points in descending order (optional)\n",
        "team_points_df = team_points_df.sort_values(by='Total Points', ascending=False)\n",
        "\n",
        "# Display the final DataFrame\n",
        "print(team_points_df)"
      ],
      "metadata": {
        "colab": {
          "base_uri": "https://localhost:8080/"
        },
        "id": "CTAaLKgVYgTY",
        "outputId": "32339655-6f72-4b0c-dbb0-73629b821617"
      },
      "execution_count": null,
      "outputs": [
        {
          "output_type": "stream",
          "name": "stdout",
          "text": [
            "               Team  Total Points\n",
            "0   Manchester City           390\n",
            "2         Liverpool           355\n",
            "7           Arsenal           342\n",
            "1    Manchester Utd           289\n",
            "3           Chelsea           283\n",
            "6         Tottenham           283\n",
            "10      Aston Villa           258\n",
            "11    Newcastle Utd           257\n",
            "5          West Ham           236\n",
            "15         Brighton           229\n",
            "13   Crystal Palace           206\n",
            "12           Wolves           199\n",
            "9           Everton           193\n",
            "20        Brentford           168\n",
            "4    Leicester City           166\n",
            "17           Fulham           156\n",
            "8      Leeds United           128\n",
            "23      Bournemouth           117\n",
            "14      Southampton           114\n",
            "24  Nott'ham Forest           107\n",
            "16          Burnley            98\n",
            "19    Sheffield Utd            39\n",
            "18        West Brom            26\n",
            "25       Luton Town            26\n",
            "21          Watford            23\n",
            "22     Norwich City            22\n",
            "26     Ipswich Town            15\n"
          ]
        }
      ]
    },
    {
      "cell_type": "markdown",
      "source": [
        "# Export as CSV file"
      ],
      "metadata": {
        "id": "GseI0T7PzeMV"
      }
    },
    {
      "cell_type": "code",
      "source": [
        "# Export as csv and save\n",
        "team_points_df.to_csv('/content/drive/MyDrive/Colab Notebooks/PL_5years_points.csv', index=False)"
      ],
      "metadata": {
        "id": "mt_cEr1jzmUF"
      },
      "execution_count": null,
      "outputs": []
    }
  ]
}