{
  "nbformat": 4,
  "nbformat_minor": 0,
  "metadata": {
    "colab": {
      "provenance": [],
      "authorship_tag": "ABX9TyMvf4xinK+3iaH/koPyfqmg",
      "include_colab_link": true
    },
    "kernelspec": {
      "name": "python3",
      "display_name": "Python 3"
    },
    "language_info": {
      "name": "python"
    }
  },
  "cells": [
    {
      "cell_type": "markdown",
      "metadata": {
        "id": "view-in-github",
        "colab_type": "text"
      },
      "source": [
        "<a href=\"https://colab.research.google.com/github/ryanma5/PL-Project/blob/main/Best_run_PL_clubs.ipynb\" target=\"_parent\"><img src=\"https://colab.research.google.com/assets/colab-badge.svg\" alt=\"Open In Colab\"/></a>"
      ]
    },
    {
      "cell_type": "code",
      "execution_count": null,
      "metadata": {
        "colab": {
          "base_uri": "https://localhost:8080/"
        },
        "id": "qJTwBnWzTH1m",
        "outputId": "7256b2e6-b710-4ecd-9749-a97f69186a57"
      },
      "outputs": [
        {
          "output_type": "stream",
          "name": "stdout",
          "text": [
            "Mounted at /content/drive\n"
          ]
        }
      ],
      "source": [
        "# Import Libraries and mount drive\n",
        "import pandas as pd\n",
        "import numpy as np\n",
        "import matplotlib.pyplot as plt\n",
        "from google.colab import drive\n",
        "drive.mount('/content/drive')"
      ]
    },
    {
      "cell_type": "code",
      "source": [
        "# Import csv files\n",
        "pl_points = pd.read_csv('/content/drive/My Drive/Colab Notebooks/PL_5years_points.csv') #Your file name and location saved\n",
        "pl_netspend = pd.read_csv('/content/drive/My Drive/Colab Notebooks/PL_5years_netspend.csv') #Your file name and location saved"
      ],
      "metadata": {
        "id": "eJw59Rcw_hW3"
      },
      "execution_count": null,
      "outputs": []
    },
    {
      "cell_type": "code",
      "source": [
        "# Standardizing club names\n",
        "pl_netspend['Club'] = pl_netspend['Club'].str.replace(' FC', '')\n",
        "pl_netspend['Club'] = pl_netspend['Club'].str.replace('United', 'Utd')\n",
        "pl_netspend['Club'] = pl_netspend['Club'].str.replace('AFC ', '')\n",
        "\n",
        "#Mapping Dictionary for special cases\n",
        "club_names_mapping = {\n",
        "    'Brighton & Hove Albion': 'Brighton',\n",
        "    'Tottenham Hotspur': 'Tottenham',\n",
        "    'West Ham Utd': 'West Ham',\n",
        "    'Nottingham Forest': \"Nott'ham Forest\",\n",
        "    'Wolverhampton Wanderers': 'Wolves',\n",
        "}\n",
        "\n",
        "# Applying Mapping Dictionary to df\n",
        "pl_netspend['Club'] = pl_netspend['Club'].replace(club_names_mapping)\n",
        "\n",
        "# Standardizing column header\n",
        "pl_points = pl_points.rename(columns={'Team': 'Club'})"
      ],
      "metadata": {
        "collapsed": true,
        "id": "KSaq3JgcDRmb"
      },
      "execution_count": null,
      "outputs": []
    },
    {
      "cell_type": "code",
      "source": [
        "# Join the two DFs\n",
        "pl_stat = pd.merge(pl_points, pl_netspend, on = 'Club')\n",
        "pl_stat = pl_stat.sort_values(by = 'Total Points', ascending = False)\n",
        "print(pl_stat)"
      ],
      "metadata": {
        "colab": {
          "base_uri": "https://localhost:8080/"
        },
        "id": "5OZHU28oI3ca",
        "outputId": "965e9e06-a813-4193-d8d2-ebcf6ba64bc8"
      },
      "execution_count": null,
      "outputs": [
        {
          "output_type": "stream",
          "name": "stdout",
          "text": [
            "               Club  Total Points  Net Spend\n",
            "0   Manchester City           390    -169.43\n",
            "1         Liverpool           355    -299.35\n",
            "2           Arsenal           342    -556.46\n",
            "3    Manchester Utd           289    -650.44\n",
            "4           Chelsea           283    -940.76\n",
            "5         Tottenham           283    -544.58\n",
            "6       Aston Villa           258    -257.67\n",
            "7     Newcastle Utd           257    -434.91\n",
            "8          West Ham           236    -328.35\n",
            "9          Brighton           229     -59.41\n",
            "10   Crystal Palace           206    -173.96\n",
            "11           Wolves           199     -17.53\n",
            "12          Everton           193      32.84\n",
            "13        Brentford           168    -113.65\n",
            "14   Leicester City           166     -26.98\n",
            "15           Fulham           156    -146.47\n",
            "16      Bournemouth           117    -142.17\n",
            "17      Southampton           114     -71.53\n",
            "18  Nott'ham Forest           107    -262.54\n",
            "19     Ipswich Town            15    -132.77\n"
          ]
        }
      ]
    },
    {
      "cell_type": "code",
      "source": [
        "# Change presentation of Net spend column\n",
        "pl_stat['Net Spend'] = pl_stat['Net Spend']* -1\n",
        "\n",
        "# Calculate Points / million pound net spend\n",
        "pl_stat['Points/million'] = (pl_stat['Total Points'] / pl_stat['Net Spend'])\n",
        "print(pl_stat)"
      ],
      "metadata": {
        "colab": {
          "base_uri": "https://localhost:8080/"
        },
        "id": "xfT7InwB64Zy",
        "outputId": "99dd6b99-5cc1-422f-eaa7-75859eb00c36"
      },
      "execution_count": null,
      "outputs": [
        {
          "output_type": "stream",
          "name": "stdout",
          "text": [
            "               Club  Total Points  Net Spend  Points/million\n",
            "0   Manchester City           390     169.43        2.301836\n",
            "1         Liverpool           355     299.35        1.185903\n",
            "2           Arsenal           342     556.46        0.614599\n",
            "3    Manchester Utd           289     650.44        0.444315\n",
            "4           Chelsea           283     940.76        0.300821\n",
            "5         Tottenham           283     544.58        0.519667\n",
            "6       Aston Villa           258     257.67        1.001281\n",
            "7     Newcastle Utd           257     434.91        0.590927\n",
            "8          West Ham           236     328.35        0.718745\n",
            "9          Brighton           229      59.41        3.854570\n",
            "10   Crystal Palace           206     173.96        1.184180\n",
            "11           Wolves           199      17.53       11.351968\n",
            "12          Everton           193     -32.84       -5.876979\n",
            "13        Brentford           168     113.65        1.478223\n",
            "14   Leicester City           166      26.98        6.152706\n",
            "15           Fulham           156     146.47        1.065065\n",
            "16      Bournemouth           117     142.17        0.822958\n",
            "17      Southampton           114      71.53        1.593737\n",
            "18  Nott'ham Forest           107     262.54        0.407557\n",
            "19     Ipswich Town            15     132.77        0.112977\n"
          ]
        }
      ]
    },
    {
      "cell_type": "code",
      "source": [
        "# Export and save cleaned dataframe as csv\n",
        "pl_stat.to_csv('/content/drive/My Drive/Colab Notebooks/PL_5years_stat.csv', index = False)"
      ],
      "metadata": {
        "id": "pPt0HLUmGVay"
      },
      "execution_count": null,
      "outputs": []
    }
  ]
}