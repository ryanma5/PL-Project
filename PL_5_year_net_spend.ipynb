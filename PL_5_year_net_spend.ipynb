{
  "nbformat": 4,
  "nbformat_minor": 0,
  "metadata": {
    "colab": {
      "provenance": [],
      "authorship_tag": "ABX9TyMDhWaei6HEGRcgQnbFRrIp",
      "include_colab_link": true
    },
    "kernelspec": {
      "name": "python3",
      "display_name": "Python 3"
    },
    "language_info": {
      "name": "python"
    }
  },
  "cells": [
    {
      "cell_type": "markdown",
      "metadata": {
        "id": "view-in-github",
        "colab_type": "text"
      },
      "source": [
        "<a href=\"https://colab.research.google.com/github/ryanma5/PL-Project/blob/main/PL_5_year_net_spend.ipynb\" target=\"_parent\"><img src=\"https://colab.research.google.com/assets/colab-badge.svg\" alt=\"Open In Colab\"/></a>"
      ]
    },
    {
      "cell_type": "code",
      "execution_count": null,
      "metadata": {
        "id": "ZpXvagiS0LVs",
        "outputId": "c94db9d8-dd46-498e-bae7-10cf28b95133",
        "colab": {
          "base_uri": "https://localhost:8080/"
        }
      },
      "outputs": [
        {
          "output_type": "stream",
          "name": "stdout",
          "text": [
            "Mounted at /content/drive\n"
          ]
        }
      ],
      "source": [
        "#Import Libraries and mount drive\n",
        "import requests\n",
        "from bs4 import BeautifulSoup\n",
        "import pandas as pd\n",
        "import time\n",
        "from google.colab import drive\n",
        "drive.mount('/content/drive')"
      ]
    },
    {
      "cell_type": "code",
      "source": [
        "#Header configuration for identification to avoid Transfermarkt block\n",
        "#www.whatismybrowser.com to check your browser's user agent\n",
        "headers = {\n",
        "    \"User-Agent\": \"Mozilla/5.0 (Macintosh; Intel Mac OS X 10_15_7) AppleWebKit/537.36 (KHTML, like Gecko) Chrome/130.0.0.0 Safari/537.36\"\n",
        "}"
      ],
      "metadata": {
        "id": "Lz8CTtghM8DW"
      },
      "execution_count": null,
      "outputs": []
    },
    {
      "cell_type": "markdown",
      "source": [
        "# Scrape transfermarkt transfer activity table"
      ],
      "metadata": {
        "id": "pJL9WYcbKFcP"
      }
    },
    {
      "cell_type": "code",
      "source": [
        "print(\"Scraping data from transfermarkt\")\n",
        "\n",
        "# Get HTML code from page\n",
        "response = requests.get('https://www.transfermarkt.us/premier-league/fuenfjahresvergleich/wettbewerb/GB1', headers=headers)\n",
        "if response.status_code != 200:\n",
        "    print(\"Failed to retrieve data\")\n",
        "\n",
        "# Parse HTML content\n",
        "soup = BeautifulSoup(response.content, 'html.parser')\n",
        "\n",
        "# Find all tables on page\n",
        "tables = soup.find_all('table')  # This returns a list of all <table> elements\n",
        "\n",
        "# Retrieve first table from page (first table is always league table)\n",
        "if tables:\n",
        "    transfer_activity_table = tables[0]\n",
        "else:\n",
        "    print(f\"No tables found on the page for {season_url}\")"
      ],
      "metadata": {
        "collapsed": true,
        "id": "tUX46QFS3KTF",
        "colab": {
          "base_uri": "https://localhost:8080/"
        },
        "outputId": "882cbcab-4b1a-4d26-d314-2d3bb981b7ff"
      },
      "execution_count": null,
      "outputs": [
        {
          "output_type": "stream",
          "name": "stdout",
          "text": [
            "Scraping data from transfermarkt\n"
          ]
        }
      ]
    },
    {
      "cell_type": "markdown",
      "source": [
        "# Function for parsing transfer activity table and populating a list that stores team names, and their net spend last 5 years"
      ],
      "metadata": {
        "id": "9BMjqZSmTA-c"
      }
    },
    {
      "cell_type": "code",
      "source": [
        "print(\"Parsing data from transfermarkt\")\n",
        "\n",
        "# Find all rows in the table (skip the header row)\n",
        "rows = transfer_activity_table.find_all('tr')[2:]  # Skip the header row and footer row\n",
        "\n",
        "# Initialize an empty dictionary to store clubs and their net spend\n",
        "club_net_spend = {}\n",
        "\n",
        "# Loop through each row and extract the relevant data (club name, net spend)\n",
        "for row in rows:\n",
        "    # Extract club name from the second column\n",
        "    team_cell = row.find_all('td')[1]  # Second `<td>` is for the club name\n",
        "    team = team_cell.find('a').text.strip() if team_cell and team_cell.find('a') else team_cell.text.strip()\n",
        "\n",
        "    # Extract net spend from the third column\n",
        "    net_spend_cell = row.find_all('td')[-1]  # Third `<td>` is for the net spend\n",
        "    net_spend_text = net_spend_cell.text.strip().replace(\"€\", \"\").replace(\",\", \"\").replace(\"m\", \"\") # Retain only numbers string\n",
        "\n",
        "    # Convert to string to numerical value\n",
        "    try:\n",
        "        net_spend = float(net_spend_text)  # Direct conversion after cleanup\n",
        "    except ValueError:\n",
        "        print(f\"Unable to parse net spend: {net_spend_text} for team {team}, defaulting to 0.\")\n",
        "        net_spend = 0\n",
        "\n",
        "    # Add the club name and net spend to the dictionary\n",
        "    club_net_spend[team] = net_spend\n",
        "\n",
        "# Print the resulting dictionary\n",
        "print(club_net_spend)\n"
      ],
      "metadata": {
        "id": "yw2zk62hQZtq",
        "colab": {
          "base_uri": "https://localhost:8080/"
        },
        "outputId": "e6d1d879-02f4-4d15-b8a2-353196152a9d"
      },
      "execution_count": null,
      "outputs": [
        {
          "output_type": "stream",
          "name": "stdout",
          "text": [
            "Parsing data from transfermarkt\n",
            "{'Arsenal FC': -556.46, 'Aston Villa': -257.67, 'AFC Bournemouth': -142.17, 'Brentford FC': -113.65, 'Brighton & Hove Albion': -59.41, 'Chelsea FC': -940.76, 'Crystal Palace': -173.96, 'Everton FC': 32.84, 'Fulham FC': -146.47, 'Ipswich Town': -132.77, 'Leicester City': -26.98, 'Liverpool FC': -299.35, 'Manchester City': -169.43, 'Manchester United': -650.44, 'Newcastle United': -434.91, 'Nottingham Forest': -262.54, 'Southampton FC': -71.53, 'Tottenham Hotspur': -544.58, 'West Ham United': -328.35, 'Wolverhampton Wanderers': -17.53}\n"
          ]
        }
      ]
    },
    {
      "cell_type": "code",
      "source": [
        "# Convert the accumulated team points into a DataFrame\n",
        "team_net_spend_df = pd.DataFrame(list(club_net_spend.items()), columns=['Club', 'Net Spend'])\n",
        "\n",
        "# Sort the DataFrame by Total Points in descending order (optional)\n",
        "team_net_spend_df = team_net_spend_df.sort_values(by='Net Spend', ascending=False)\n",
        "\n",
        "# Display the final DataFrame\n",
        "print(team_net_spend_df)\n"
      ],
      "metadata": {
        "colab": {
          "base_uri": "https://localhost:8080/"
        },
        "id": "CTAaLKgVYgTY",
        "outputId": "0d57f2b7-ce2d-4deb-99fb-20b937172f3d"
      },
      "execution_count": null,
      "outputs": [
        {
          "output_type": "stream",
          "name": "stdout",
          "text": [
            "                       Club  Net Spend\n",
            "7                Everton FC      32.84\n",
            "19  Wolverhampton Wanderers     -17.53\n",
            "10           Leicester City     -26.98\n",
            "4    Brighton & Hove Albion     -59.41\n",
            "16           Southampton FC     -71.53\n",
            "3              Brentford FC    -113.65\n",
            "9              Ipswich Town    -132.77\n",
            "2           AFC Bournemouth    -142.17\n",
            "8                 Fulham FC    -146.47\n",
            "12          Manchester City    -169.43\n",
            "6            Crystal Palace    -173.96\n",
            "1               Aston Villa    -257.67\n",
            "15        Nottingham Forest    -262.54\n",
            "11             Liverpool FC    -299.35\n",
            "18          West Ham United    -328.35\n",
            "14         Newcastle United    -434.91\n",
            "17        Tottenham Hotspur    -544.58\n",
            "0                Arsenal FC    -556.46\n",
            "13        Manchester United    -650.44\n",
            "5                Chelsea FC    -940.76\n"
          ]
        }
      ]
    },
    {
      "cell_type": "code",
      "source": [
        "# Convert df to csv and save\n",
        "team_net_spend_df.to_csv('/content/drive/My Drive/Colab Notebooks/PL_5years_netspend.csv', index=False) # your desired location"
      ],
      "metadata": {
        "id": "QrDzzgWpQo4O"
      },
      "execution_count": null,
      "outputs": []
    }
  ]
}